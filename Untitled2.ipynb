{
  "nbformat": 4,
  "nbformat_minor": 0,
  "metadata": {
    "colab": {
      "provenance": [],
      "authorship_tag": "ABX9TyNkx8DWV3tMvHFWlOC5+tRr",
      "include_colab_link": true
    },
    "kernelspec": {
      "name": "python3",
      "display_name": "Python 3"
    },
    "language_info": {
      "name": "python"
    }
  },
  "cells": [
    {
      "cell_type": "markdown",
      "metadata": {
        "id": "view-in-github",
        "colab_type": "text"
      },
      "source": [
        "<a href=\"https://colab.research.google.com/github/Milton0222/chatBoot/blob/main/Untitled2.ipynb\" target=\"_parent\"><img src=\"https://colab.research.google.com/assets/colab-badge.svg\" alt=\"Open In Colab\"/></a>"
      ]
    },
    {
      "cell_type": "code",
      "execution_count": null,
      "metadata": {
        "id": "KnHGpRGaLLsp"
      },
      "outputs": [],
      "source": []
    },
    {
      "cell_type": "code",
      "execution_count": 2,
      "metadata": {
        "id": "J6Pd9SFJ1yVi"
      },
      "outputs": [],
      "source": [
        "!pip install -q -U google-generativeai"
      ]
    },
    {
      "cell_type": "code",
      "execution_count": 20,
      "metadata": {
        "id": "HTiaTu6O1LRC"
      },
      "outputs": [],
      "source": [
        "# Import the Python SDK\n",
        "import google.generativeai as genai\n",
        "from google.colab import userdata\n",
        "api_key=userdata.get('secret_key')\n",
        "genai.configure(api_key=api_key)\n",
        "\n"
      ]
    },
    {
      "cell_type": "markdown",
      "source": [
        "Listar os modelos"
      ],
      "metadata": {
        "id": "ZHhvYUZoMRoi"
      }
    },
    {
      "cell_type": "code",
      "source": [
        "for m in genai.list_models():\n",
        "   if 'generateContent' in m.supported_generation_methods:\n",
        "    print(m.name)"
      ],
      "metadata": {
        "colab": {
          "base_uri": "https://localhost:8080/",
          "height": 138
        },
        "id": "XjHO1aDuMAYN",
        "outputId": "12e4148c-d8de-4f1c-ff40-769236375416"
      },
      "execution_count": 4,
      "outputs": [
        {
          "output_type": "stream",
          "name": "stdout",
          "text": [
            "models/gemini-1.0-pro\n",
            "models/gemini-1.0-pro-001\n",
            "models/gemini-1.0-pro-latest\n",
            "models/gemini-1.0-pro-vision-latest\n",
            "models/gemini-1.5-pro-latest\n",
            "models/gemini-pro\n",
            "models/gemini-pro-vision\n"
          ]
        }
      ]
    },
    {
      "cell_type": "code",
      "source": [
        "config={\n",
        "    'candidate_count':1,\n",
        "    'temperature': 0.5,\n",
        "}"
      ],
      "metadata": {
        "id": "vjr9R25zRHTO"
      },
      "execution_count": 11,
      "outputs": []
    },
    {
      "cell_type": "code",
      "execution_count": 6,
      "metadata": {
        "id": "jwBv7DofDofw"
      },
      "outputs": [],
      "source": [
        "safety_settings={\n",
        "    'HATE': 'BLOCK_NONE',\n",
        "    'HARASSMENT': 'BLOCK_NONE',\n",
        "    'SEXUAL' : 'BLOCK_NONE',\n",
        "    'DANGEROUS' : 'BLOCK_NONE'\n",
        "    }"
      ]
    },
    {
      "cell_type": "code",
      "source": [
        "model = genai.GenerativeModel(model_name='gemini-1.0-pro',\n",
        "                                  generation_config=config,\n",
        "                                  safety_settings=safety_settings,)"
      ],
      "metadata": {
        "id": "o6g0FI1ATbgp"
      },
      "execution_count": 12,
      "outputs": []
    },
    {
      "cell_type": "code",
      "execution_count": 16,
      "metadata": {
        "colab": {
          "base_uri": "https://localhost:8080/",
          "height": 937
        },
        "id": "vrRjhT2rlrU_",
        "outputId": "48ae8ba4-797c-4424-abfb-d1cf566a6d67"
      },
      "outputs": [
        {
          "output_type": "stream",
          "name": "stdout",
          "text": [
            "**Angola**\n",
            "\n",
            "**Capital:** Luanda\n",
            "\n",
            "**Official Language:** Portuguese\n",
            "\n",
            "**Currency:** Kwanza\n",
            "\n",
            "**Government:** Presidential republic\n",
            "\n",
            "**Area:** 1,246,700 sq km (481,354 sq mi)\n",
            "\n",
            "**Population:** 33,938,459 (2023 est.)\n",
            "\n",
            "**GDP (nominal):** $108.51 billion (2022 est.)\n",
            "\n",
            "**GDP (PPP):** $240.23 billion (2022 est.)\n",
            "\n",
            "**HDI:** 0.586 (2021)\n",
            "\n",
            "**Geography:**\n",
            "\n",
            "* Located in southwestern Africa\n",
            "* Bordered by the Democratic Republic of the Congo, Zambia, Namibia, and the Atlantic Ocean\n",
            "* Coastal plain, central plateau, and eastern highlands\n",
            "* Rich in natural resources, including oil, diamonds, and natural gas\n",
            "\n",
            "**History:**\n",
            "\n",
            "* Portuguese colony from the 16th to 20th centuries\n",
            "* Gained independence in 1975\n",
            "* Civil war from 1975 to 2002\n",
            "* Period of economic growth and development since the end of the civil war\n",
            "\n",
            "**Economy:**\n",
            "\n",
            "* Oil-dependent economy\n",
            "* Major producer of diamonds and other minerals\n",
            "* Agriculture, fishing, and tourism also contribute to the economy\n",
            "* High levels of poverty and inequality\n",
            "\n",
            "**Culture:**\n",
            "\n",
            "* Diverse cultural heritage, influenced by African, Portuguese, and Brazilian traditions\n",
            "* Music, dance, and art play important roles in Angolan society\n",
            "* Official religion is Roman Catholicism, but other religions are practiced\n",
            "\n",
            "**Other Facts:**\n",
            "\n",
            "* One of the largest oil producers in Africa\n",
            "* Home to the Okavango Delta, a UNESCO World Heritage Site\n",
            "* Has a tropical climate with two distinct seasons: a rainy season and a dry season\n",
            "* Known for its rich biodiversity, including a variety of wildlife and plant life\n"
          ]
        }
      ],
      "source": [
        "response = model.generate_content(\"Angola?\")\n",
        "print(response.text)"
      ]
    },
    {
      "cell_type": "code",
      "source": [
        "chat=model.start_chat(history=[])"
      ],
      "metadata": {
        "id": "ZQBojcv-YRN6"
      },
      "execution_count": 17,
      "outputs": []
    },
    {
      "cell_type": "code",
      "source": [
        "prompt=input('Esperando prompt: ')\n",
        "\n",
        "while prompt !=\"fim\":\n",
        "  response=chat.send_message(prompt)\n",
        "  print('Resposta: ', response.text,'\\n')\n",
        "  prompt=input('Esperando promp: ')"
      ],
      "metadata": {
        "colab": {
          "base_uri": "https://localhost:8080/",
          "height": 1000
        },
        "id": "_IeoEOXLYerX",
        "outputId": "ced59069-6e41-48e7-cf96-f19463cd282a"
      },
      "execution_count": 19,
      "outputs": [
        {
          "name": "stdout",
          "output_type": "stream",
          "text": [
            "Esperando prompt: Fala do laravel?\n",
            "Resposta:  **Laravel** é um framework PHP de código aberto para desenvolvimento de aplicações web. É conhecido por sua sintaxe elegante, recursos robustos e grande comunidade.\n",
            "\n",
            "**Características principais:**\n",
            "\n",
            "* **Roteamento:** Rotas fáceis de definir e gerenciar para URLs e ações do controlador.\n",
            "* **Modelos:** Modelos Eloquent que fornecem uma interface orientada a objetos para interagir com o banco de dados.\n",
            "* **Controladores:** Controladores que são responsáveis por manipular solicitações e gerar respostas.\n",
            "* **Visualizações:** Sistema de visualização Blade que permite criar layouts e modelos reutilizáveis.\n",
            "* **Gerenciamento de dependências:** Integração com o Composer para gerenciar dependências de pacotes.\n",
            "* **Validação:** Validação abrangente para garantir a entrada de dados válida.\n",
            "* **Autenticação e autorização:** Recursos integrados para autenticação e autorização de usuários.\n",
            "* **Cache:** Mecanismo de cache para melhorar o desempenho do aplicativo.\n",
            "* **Fila de tarefas:** Fila de tarefas para processamento assíncrono de tarefas.\n",
            "* **Testes:** Suporte abrangente para testes de unidade e integração.\n",
            "\n",
            "**Vantagens:**\n",
            "\n",
            "* **Sintaxe elegante:** A sintaxe concisa e expressiva do Laravel torna o desenvolvimento rápido e fácil.\n",
            "* **Recursos robustos:** Uma ampla gama de recursos integrados elimina a necessidade de bibliotecas adicionais.\n",
            "* **Grande comunidade:** Uma comunidade ativa e crescente fornece suporte e recursos.\n",
            "* **Documentação abrangente:** Documentação detalhada e tutoriais facilitam o aprendizado e o uso.\n",
            "* **Atualizações regulares:** Atualizações frequentes garantem que o Laravel permaneça atualizado com as tecnologias mais recentes.\n",
            "\n",
            "**Aplicações:**\n",
            "\n",
            "O Laravel é adequado para uma ampla gama de aplicações web, incluindo:\n",
            "\n",
            "* Aplicativos de comércio eletrônico\n",
            "* Sistemas de gerenciamento de conteúdo (CMS)\n",
            "* Plataformas de mídia social\n",
            "* Painéis administrativos\n",
            "* Aplicativos móveis (através do Laravel Nova) \n",
            "\n",
            "Esperando promp: qual é a versão estavel deste framework?\n",
            "Resposta:  A versão estável atual do Laravel é **9.43.0**.\n",
            "\n",
            "Ela foi lançada em 13 de dezembro de 2022 e inclui vários novos recursos e melhorias, incluindo:\n",
            "\n",
            "* Suporte para PHP 8.2\n",
            "* Novos métodos de consulta do Eloquent, como `withoutTrashedScopes()` e `withoutGlobalScopes()`\n",
            "* Melhorias no sistema de cache\n",
            "* Atualizações para o Laravel Jetstream e Breeze\n",
            "* Correções de bugs e melhorias de desempenho\n",
            "\n",
            "Você pode verificar a página de lançamentos do Laravel para obter mais informações sobre as versões estáveis e futuras:\n",
            "\n",
            "https://laravel.com/docs/releases \n",
            "\n",
            "Esperando promp: Recomendações para quem já domina o basico desta ferramenta?\n",
            "Resposta:  **Recomendações para quem já domina o básico do Laravel:**\n",
            "\n",
            "* **Aprenda padrões de design:** Compreender padrões de design como MVC, MVVM e Repositório ajudará você a criar aplicativos mais escaláveis e manuteníveis.\n",
            "* **Mergulhe no Eloquent:** Domine os recursos avançados do Eloquent, como relacionamentos, escopos e eventos, para interagir efetivamente com o banco de dados.\n",
            "* **Explore os serviços do Laravel:** Familiarize-se com os serviços integrados do Laravel, como cache, filas e autenticação, para aproveitar seus recursos poderosos.\n",
            "* **Crie pacotes reutilizáveis:** Aprenda a criar seus próprios pacotes do Laravel para compartilhar funcionalidades comuns entre projetos.\n",
            "* **Contribua para a comunidade:** Participe da comunidade do Laravel contribuindo com pacotes, respondendo a perguntas em fóruns ou escrevendo artigos.\n",
            "* **Aprenda sobre testes:** Domine as técnicas de teste do Laravel para garantir a qualidade e a confiabilidade do seu código.\n",
            "* **Explore o Laravel Nova:** Aprenda a usar o Laravel Nova para criar painéis administrativos personalizados rapidamente.\n",
            "* **Acompanhe as atualizações:** Fique atualizado com as versões mais recentes do Laravel e seus novos recursos.\n",
            "* **Leia a documentação:** A documentação oficial do Laravel é um recurso inestimável para aprender sobre os recursos e as melhores práticas do framework.\n",
            "* **Pratique regularmente:** A melhor maneira de dominar o Laravel é praticar regularmente criando seus próprios projetos.\n",
            "\n",
            "**Recursos adicionais:**\n",
            "\n",
            "* [Documentação do Laravel](https://laravel.com/docs)\n",
            "* [Blog do Laravel](https://laravel.com/blog)\n",
            "* [Fórum do Laravel](https://laracasts.com/discuss)\n",
            "* [Laracasts](https://laracasts.com/)\n",
            "* [Cursos do Laravel](https://www.udemy.com/topic/laravel/) \n",
            "\n",
            "Esperando promp: mas algum conselho?\n",
            "Resposta:  **Conselhos para quem já domina o básico do Laravel:**\n",
            "\n",
            "* **Foco na arquitetura:** Pense na arquitetura do seu aplicativo desde o início. Isso ajudará você a criar aplicativos escaláveis e fáceis de manter.\n",
            "* **Use padrões de design:** Aplique padrões de design como MVC, MVVM e Repositório para melhorar a estrutura e a testabilidade do seu código.\n",
            "* **Domine o Eloquent:** O Eloquent é uma ferramenta poderosa para interagir com o banco de dados. Aprenda a usá-lo efetivamente para realizar consultas complexas e gerenciar relacionamentos.\n",
            "* **Aproveite os serviços do Laravel:** Os serviços integrados do Laravel, como cache, filas e autenticação, podem economizar muito tempo e esforço. Familiarize-se com eles e use-os sempre que possível.\n",
            "* **Teste seu código:** Escrever testes é crucial para garantir a qualidade e a confiabilidade do seu código. Domine as técnicas de teste do Laravel e use-as regularmente.\n",
            "* **Contribua para a comunidade:** Contribuir para a comunidade do Laravel é uma ótima maneira de aprender e retribuir. Compartilhe seu conhecimento, responda perguntas e crie pacotes.\n",
            "* **Nunca pare de aprender:** O Laravel está em constante evolução. Fique atualizado com as versões mais recentes e seus novos recursos.\n",
            "* **Pratique regularmente:** A melhor maneira de dominar o Laravel é praticar regularmente. Crie seus próprios projetos, experimente novos recursos e desafie-se.\n",
            "\n",
            "Lembre-se, dominar o Laravel é uma jornada contínua. Ao seguir esses conselhos e se dedicar à prática e ao aprendizado, você pode se tornar um desenvolvedor Laravel altamente qualificado. \n",
            "\n",
            "Esperando promp: fim\n"
          ]
        }
      ]
    }
  ]
}